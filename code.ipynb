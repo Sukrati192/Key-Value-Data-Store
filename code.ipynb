{
 "cells": [
  {
   "cell_type": "code",
   "execution_count": 4,
   "metadata": {},
   "outputs": [],
   "source": [
    "import threading \n",
    "from threading import *\n",
    "import time\n",
    "import os\n",
    "from os import path\n",
    "import json"
   ]
  },
  {
   "cell_type": "code",
   "execution_count": 25,
   "metadata": {},
   "outputs": [],
   "source": [
    "def create(key,value,timetolive=0):\n",
    "    if not path.exists('x.txt'):\n",
    "        file = open('datastore.txt','w+')\n",
    "    else:\n",
    "        file = open('datastore.txt','r+')\n",
    "    filesize=path.getsize('datastore.txt')\n",
    "    if(filesize==0):\n",
    "        d={}\n",
    "    else:\n",
    "        d=json.load(file)\n",
    "    if key in d:\n",
    "        print(\"error: this key already exists\")\n",
    "        return\n",
    "    if(len(key)>32):\n",
    "        print(\"constraints for input key_name capped at 32chars\")\n",
    "        return\n",
    "    out=open('x.txt','w+')\n",
    "    json.dump(value,out)\n",
    "    size=path.getsize(\"x.txt\")\n",
    "    if(size>(16*1024)):\n",
    "        print(\"constraints for input value capped at 16KB\")\n",
    "        return\n",
    "    if((size+filesize)>(1024*1024*1024)):\n",
    "        print(\"constraints for filesize\")\n",
    "        return\n",
    "    try:\n",
    "        data = value\n",
    "    except ValueError as e:\n",
    "        print(\"Not a valid JSON\")\n",
    "        return\n",
    "    d[key]=[data,timetolive]\n",
    "    with open('datastore.txt','w+') as file:\n",
    "        file.write(json.dumps(d))\n",
    "    print(\"Data created\")\n",
    "    file.close()"
   ]
  },
  {
   "cell_type": "code",
   "execution_count": null,
   "metadata": {},
   "outputs": [],
   "source": [
    "def delete(key):\n",
    "    d=json.load(\"datastore.txt\")\n",
    "    if key not in d:\n",
    "        print(\"error: given key does not exist in database. Please enter a valid key\")\n",
    "        return\n",
    "    if()\n",
    "    del d[key]\n",
    "    with open('datastore.txt','w') as file:\n",
    "        file.write(json.dumps(d))\n",
    "    print(\"key is successfully deleted\")"
   ]
  },
  {
   "cell_type": "code",
   "execution_count": null,
   "metadata": {},
   "outputs": [],
   "source": [
    "def read(key):\n",
    "    d=json.load(\"datastore.txt\")\n",
    "    if key not in d:\n",
    "        print(\"error: given key does not exist in database. Please enter a valid key\")\n",
    "        return\n",
    "    print(d[key]+\" key is successfully deleted \")"
   ]
  },
  {
   "cell_type": "code",
   "execution_count": 27,
   "metadata": {},
   "outputs": [
    {
     "name": "stdout",
     "output_type": "stream",
     "text": [
      "Data created\n"
     ]
    }
   ],
   "source": [
    "create(\"w\",{\"name\":\"Ram\", \"email\":\"Ram@gmail.com\"})"
   ]
  },
  {
   "cell_type": "code",
   "execution_count": 30,
   "metadata": {},
   "outputs": [
    {
     "name": "stdout",
     "output_type": "stream",
     "text": [
      "Data created\n"
     ]
    }
   ],
   "source": [
    "create(\"r\",{\"name\":\"Ram\", \"email\":\"Ram@gmail.com\"},4)"
   ]
  },
  {
   "cell_type": "code",
   "execution_count": null,
   "metadata": {},
   "outputs": [],
   "source": []
  }
 ],
 "metadata": {
  "kernelspec": {
   "display_name": "Python 3",
   "language": "python",
   "name": "python3"
  },
  "language_info": {
   "codemirror_mode": {
    "name": "ipython",
    "version": 3
   },
   "file_extension": ".py",
   "mimetype": "text/x-python",
   "name": "python",
   "nbconvert_exporter": "python",
   "pygments_lexer": "ipython3",
   "version": "3.7.6"
  }
 },
 "nbformat": 4,
 "nbformat_minor": 4
}
