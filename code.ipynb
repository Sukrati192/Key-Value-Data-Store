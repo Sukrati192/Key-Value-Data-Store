{
 "cells": [
  {
   "cell_type": "markdown",
   "metadata": {},
   "source": [
    "<h1>File-Based Key-Value Data Store</h1> \n",
    "<b><i>This is a file-based key-value data store that supports the basic CRD (create, read, and delete) operations.</i><b>"
   ]
  },
  {
   "cell_type": "markdown",
   "metadata": {},
   "source": [
    "<h4><u>Making necessary imports</u></h4>"
   ]
  },
  {
   "cell_type": "code",
   "execution_count": 1,
   "metadata": {},
   "outputs": [],
   "source": [
    "import threading \n",
    "from threading import *\n",
    "import time\n",
    "import os\n",
    "from os import path\n",
    "import json\n",
    "from filelock import FileLock"
   ]
  },
  {
   "cell_type": "markdown",
   "metadata": {},
   "source": [
    "<h4><u>Create Function</u></h4>"
   ]
  },
  {
   "cell_type": "code",
   "execution_count": 2,
   "metadata": {},
   "outputs": [],
   "source": [
    "def create(key,value,timetolive=0):\n",
    "    if not path.exists('datastore.txt'):\n",
    "        file = open('datastore.txt','w+')\n",
    "    else:\n",
    "        file = open('datastore.txt','r+')\n",
    "    print(\"**Create '\"+key+\"' Operation**\")\n",
    "    with FileLock(\"datastore.txt.lock\"):\n",
    "        filesize=path.getsize('datastore.txt')\n",
    "        if(filesize==0):\n",
    "            d={}\n",
    "        else:\n",
    "            d=json.load(file)\n",
    "        if key in d:\n",
    "            print(\"Key '\"+key+\"' already exists!!!!\")\n",
    "            return\n",
    "        if(len(key)>32):\n",
    "            print(\"Key '\"+key+\"' is capped at 32 chars!!!!\")\n",
    "            return\n",
    "        out=open('x.txt','w+')\n",
    "        json.dump(value,out)\n",
    "        size=path.getsize(\"x.txt\")\n",
    "        if(size>(16*1024)):\n",
    "            print(\"JSON Object \"+value+\" is capped at 16KB!!!!\")\n",
    "            return\n",
    "        if((size+filesize)>(1024*1024*1024)):\n",
    "            print(\"File size is exceeding 1 GB!!!!\")\n",
    "            return\n",
    "        try:\n",
    "            data = value\n",
    "        except ValueError as e:\n",
    "            print(value+\"-> Not a valid JSON!!!!\")\n",
    "            return\n",
    "        if(timetolive==0):\n",
    "            d[key]=[data,timetolive]\n",
    "        else:\n",
    "            d[key]=[data,int(time.time()+timetolive)]\n",
    "    with open('datastore.txt','w+') as file:\n",
    "        with FileLock(\"datastore.txt.lock\"):\n",
    "            file.write(json.dumps(d))\n",
    "    print(\"Data created-> Key: \"+key+\", Value: \"+str(value))\n",
    "    file.close()"
   ]
  },
  {
   "cell_type": "markdown",
   "metadata": {},
   "source": [
    "<h4><u>Delete Function</u></h4>"
   ]
  },
  {
   "cell_type": "code",
   "execution_count": 3,
   "metadata": {},
   "outputs": [],
   "source": [
    "def delete(key):\n",
    "    print(\"**Delete '\"+key+\"' Operation**\")\n",
    "    if not path.exists('datastore.txt'):\n",
    "        print(\"File doesn't exist!!!!\")\n",
    "        return\n",
    "    with FileLock(\"datastore.txt.lock\"):\n",
    "        file = open('datastore.txt','r+')\n",
    "        filesize=path.getsize('datastore.txt')\n",
    "        if(filesize==0):\n",
    "            print(\"File is empty!!!!\")\n",
    "            return\n",
    "        d=json.load(file)\n",
    "        if key not in d:\n",
    "            print(\"Key \"+key+\" doesn't exist!!!!\")\n",
    "            return\n",
    "    if(d[key][1]==0 or time.time()<d[key][1]):\n",
    "        del d[key]\n",
    "        with open('datastore.txt','w') as file:\n",
    "            with FileLock(\"datastore.txt.lock\"):\n",
    "                file.write(json.dumps(d))\n",
    "        print(\"Key '\"+key+\"' is successfully deleted.\")\n",
    "    else:\n",
    "        print(\"Time to live for the key \"+key+\" has expired!!!\")\n",
    "    file.close()"
   ]
  },
  {
   "cell_type": "markdown",
   "metadata": {},
   "source": [
    "<h4><u>Read Function</u></h4>"
   ]
  },
  {
   "cell_type": "code",
   "execution_count": 4,
   "metadata": {},
   "outputs": [],
   "source": [
    "def read(key):\n",
    "    print(\"**Read '\"+key+\"' Operation**\")\n",
    "    if not path.exists('datastore.txt'):\n",
    "        print(\"File doesn't exist!!!!\")\n",
    "        return\n",
    "    with FileLock(\"datastore.txt.lock\"):\n",
    "        file = open('datastore.txt','r+')\n",
    "        filesize=path.getsize('datastore.txt')\n",
    "        if(filesize==0):\n",
    "            print(\"File is empty!!!!\")\n",
    "            return\n",
    "        d=json.load(file)\n",
    "        if key not in d:\n",
    "            print(\"Key '\"+key+\"' doesn't exist!!!!\")\n",
    "            return\n",
    "        if(d[key][1]==0 or time.time()<d[key][1]):\n",
    "            print(\"The key '\"+key+\"' has value: \"+str(d[key]))\n",
    "        else:\n",
    "            print(\"Time to live for the key '\"+key+\"' has expired!!!\")\n",
    "    file.close()"
   ]
  },
  {
   "cell_type": "markdown",
   "metadata": {},
   "source": [
    "<h4><u>Accessing the data store using multiple threads</u></h4>"
   ]
  },
  {
   "cell_type": "code",
   "execution_count": 5,
   "metadata": {},
   "outputs": [],
   "source": [
    "t=[] #list containing all the processes for multi-threading\n",
    "\n",
    "#Creating and Reading Data\n",
    "t.append(Thread(target=(create),args=(\"a\",{\"name\":\"Ram\", \"email\":\"Ram@gmail.com\"})))\n",
    "t.append(Thread(target=(read),args=(\"a\")))\n",
    "t.append(Thread(target=(create),args=(\"b\",{\"name\":\"Lovish\", \"email\":\"lovish@gmail.com\"},0.1)))\n",
    "t.append(Thread(target=(read),args=(\"b\")))\n",
    "t.append(Thread(target=(create),args=(\"c\",{\"name\":\"Rohith\", \"email\":\"rohith@gmail.com\"},10000)))\n",
    "t.append(Thread(target=(read),args=(\"c\")))\n",
    "t.append(Thread(target=(create),args=(\"d\",{\"name\":\"Mahak\", \"email\":\"mahak@gmail.com\"})))\n",
    "t.append(Thread(target=(read),args=(\"d\")))\n",
    "\n",
    "#Creating already existing key\n",
    "t.append(Thread(target=(create),args=(\"a\",{\"name\":\"Nitesh\", \"email\":\"nitesh@gmail.com\"})))\n",
    "\n",
    "#Creating key having more than 32 chars:\n",
    "t.append(Thread(target=(create),args=(\"abcdeyugfrbvyfgriubgvuhrfguhuregnjfdnfr\",{\"name\":\"Niharika\", \"email\":\"niharika@gmail.com\"})))\n",
    "\n",
    "#Deleting a key\n",
    "t.append(Thread(target=(delete),args=(\"a\")))\n",
    "\n",
    "#Reading a non-existing key\n",
    "t.append(Thread(target=(read),args=(\"a\")))\n",
    "\n",
    "#Deleting a non-existing key\n",
    "t.append(Thread(target=(delete),args=(\"a\")))\n",
    "\n",
    "#Deleting and accessing a key whose time to live has expired\n",
    "t.append(Thread(target=(read),args=(\"b\")))\n",
    "t.append(Thread(target=(delete),args=(\"b\")))"
   ]
  },
  {
   "cell_type": "markdown",
   "metadata": {},
   "source": [
    "<h4><u>Running the threads</u></h4>"
   ]
  },
  {
   "cell_type": "code",
   "execution_count": 6,
   "metadata": {},
   "outputs": [
    {
     "name": "stdout",
     "output_type": "stream",
     "text": [
      "**Read 'a' Operation****Create 'a' Operation**\n",
      "\n",
      "**Read 'b' Operation**\n",
      "**Create 'b' Operation****Read 'c' Operation**\n",
      "\n",
      "**Create 'c' Operation**\n",
      "**Read 'd' Operation**File is empty!!!!\n",
      "\n",
      "**Create 'd' Operation**\n",
      "**Create 'a' Operation**\n",
      "File is empty!!!!\n",
      "**Delete 'a' Operation**\n",
      "**Read 'a' Operation****Create 'abcdeyugfrbvyfgriubgvuhrfguhuregnjfdnfr' Operation**\n",
      "**Delete 'a' Operation**\n",
      "\n",
      "**Read 'b' Operation**Key 'abcdeyugfrbvyfgriubgvuhrfguhuregnjfdnfr' is capped at 32 chars!!!!\n",
      "\n",
      "**Delete 'b' Operation**\n",
      "File is empty!!!!\n",
      "Data created-> Key: a, Value: {'name': 'Nitesh', 'email': 'nitesh@gmail.com'}\n",
      "Key 'b' doesn't exist!!!!\n",
      "Key 'a' is successfully deleted.\n",
      "Key 'b' doesn't exist!!!!\n",
      "Key b doesn't exist!!!!\n",
      "Data created-> Key: a, Value: {'name': 'Ram', 'email': 'Ram@gmail.com'}\n",
      "Data created-> Key: b, Value: {'name': 'Lovish', 'email': 'lovish@gmail.com'}\n",
      "Key 'd' doesn't exist!!!!\n",
      "Data created-> Key: d, Value: {'name': 'Mahak', 'email': 'mahak@gmail.com'}\n",
      "The key 'a' has value: [{'name': 'Ram', 'email': 'Ram@gmail.com'}, 0]\n",
      "Data created-> Key: c, Value: {'name': 'Rohith', 'email': 'rohith@gmail.com'}\n"
     ]
    }
   ],
   "source": [
    "for i in t:\n",
    "    i.start()\n",
    "for i in t:\n",
    "    i.join()"
   ]
  }
 ],
 "metadata": {
  "kernelspec": {
   "display_name": "Python 3",
   "language": "python",
   "name": "python3"
  },
  "language_info": {
   "codemirror_mode": {
    "name": "ipython",
    "version": 3
   },
   "file_extension": ".py",
   "mimetype": "text/x-python",
   "name": "python",
   "nbconvert_exporter": "python",
   "pygments_lexer": "ipython3",
   "version": "3.7.6"
  }
 },
 "nbformat": 4,
 "nbformat_minor": 4
}
